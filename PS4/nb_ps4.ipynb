{
 "cells": [
  {
   "cell_type": "markdown",
   "metadata": {},
   "source": [
    "\n",
    "  # Problem Set 4, Metrics 717, Spring 22\n",
    "\n",
    "  Author: \n",
    "\n",
    "    name: Giselle Labrador Badia\n",
    "\n",
    "    email: labradorbada@wisc.edu\n",
    "    \n",
    "  \n",
    "  This file contains the main code to solve PS4.\n"
   ]
  },
  {
   "cell_type": "code",
   "execution_count": 40,
   "metadata": {},
   "outputs": [],
   "source": [
    "# importing libraries\n",
    "using Optim, Random, Plots, Printf"
   ]
  },
  {
   "cell_type": "code",
   "execution_count": 41,
   "metadata": {},
   "outputs": [],
   "source": [
    "# including Primitives and functions of the model \n",
    "include(\"./ps4_model.jl\");"
   ]
  },
  {
   "cell_type": "markdown",
   "metadata": {},
   "source": [
    "### b) Compute model given parameters and N simulated individuals."
   ]
  },
  {
   "cell_type": "code",
   "execution_count": 42,
   "metadata": {},
   "outputs": [
    {
     "data": {
      "text/plain": [
       "Primitives\n",
       "  π₁: Float64 1.0\n",
       "  π₂: Float64 1.0\n",
       "  μ₁: Float64 0.5\n",
       "  μ₂: Float64 0.5\n",
       "  σ₁: Float64 0.25\n",
       "  σ₂: Float64 0.5\n",
       "  ρ: Float64 0.25\n",
       "  Σ: Array{Float64}((2, 2)) [0.0625 0.03125; 0.03125 0.25]\n"
      ]
     },
     "metadata": {},
     "output_type": "display_data"
    }
   ],
   "source": [
    "# from set of paramters computing remaining of the primitives of the model\n",
    "θ = initialize(θ = [1, 1, 0.5, 0.5, 0.25, 0.5, 0.25])"
   ]
  },
  {
   "cell_type": "code",
   "execution_count": 43,
   "metadata": {},
   "outputs": [
    {
     "data": {
      "text/html": [
       "<div class=\"data-frame\"><p>3 rows × 7 columns</p><table class=\"data-frame\"><thead><tr><th></th><th>variable</th><th>mean</th><th>min</th><th>median</th><th>max</th><th>nmissing</th><th>eltype</th></tr><tr><th></th><th title=\"Symbol\">Symbol</th><th title=\"Float64\">Float64</th><th title=\"Real\">Real</th><th title=\"Float64\">Float64</th><th title=\"Real\">Real</th><th title=\"Int64\">Int64</th><th title=\"DataType\">DataType</th></tr></thead><tbody><tr><th>1</th><td>ind</td><td>500.5</td><td>1</td><td>500.5</td><td>1000</td><td>0</td><td>Int64</td></tr><tr><th>2</th><td>d</td><td>0.828</td><td>0</td><td>1.0</td><td>1</td><td>0</td><td>Int64</td></tr><tr><th>3</th><td>wage</td><td>1.01904</td><td>-0.30447</td><td>0.97528</td><td>3.00337</td><td>0</td><td>Float64</td></tr></tbody></table></div>"
      ],
      "text/latex": [
       "\\begin{tabular}{r|ccccccc}\n",
       "\t& variable & mean & min & median & max & nmissing & eltype\\\\\n",
       "\t\\hline\n",
       "\t& Symbol & Float64 & Real & Float64 & Real & Int64 & DataType\\\\\n",
       "\t\\hline\n",
       "\t1 & ind & 500.5 & 1 & 500.5 & 1000 & 0 & Int64 \\\\\n",
       "\t2 & d & 0.828 & 0 & 1.0 & 1 & 0 & Int64 \\\\\n",
       "\t3 & wage & 1.01904 & -0.30447 & 0.97528 & 3.00337 & 0 & Float64 \\\\\n",
       "\\end{tabular}\n"
      ],
      "text/plain": [
       "\u001b[1m3×7 DataFrame\u001b[0m\n",
       "\u001b[1m Row \u001b[0m│\u001b[1m variable \u001b[0m\u001b[1m mean      \u001b[0m\u001b[1m min      \u001b[0m\u001b[1m median    \u001b[0m\u001b[1m max        \u001b[0m\u001b[1m nmissing \u001b[0m\u001b[1m eltype \u001b[0m ⋯\n",
       "\u001b[1m     \u001b[0m│\u001b[90m Symbol   \u001b[0m\u001b[90m Float64   \u001b[0m\u001b[90m Real     \u001b[0m\u001b[90m Float64   \u001b[0m\u001b[90m Real       \u001b[0m\u001b[90m Int64    \u001b[0m\u001b[90m DataTyp\u001b[0m ⋯\n",
       "─────┼──────────────────────────────────────────────────────────────────────────\n",
       "   1 │ ind       500.5       1        500.5      1000               0  Int64   ⋯\n",
       "   2 │ d           0.828     0          1.0         1               0  Int64\n",
       "   3 │ wage        1.01904  -0.30447    0.97528     3.00337         0  Float64\n",
       "\u001b[36m                                                                1 column omitted\u001b[0m"
      ]
     },
     "metadata": {},
     "output_type": "display_data"
    }
   ],
   "source": [
    "# Given paramters, simulating N individuals\n",
    "data = simulate(θ,n= 1000)\n",
    "describe(data)"
   ]
  },
  {
   "cell_type": "markdown",
   "metadata": {},
   "source": []
  },
  {
   "cell_type": "markdown",
   "metadata": {},
   "source": [
    "### c) Find vector of parameters such that 60% of observations choose ocuppation 1\n"
   ]
  },
  {
   "cell_type": "code",
   "execution_count": 46,
   "metadata": {},
   "outputs": [
    {
     "data": {
      "text/plain": [
       "Primitives\n",
       "  π₁: Float64 1.0\n",
       "  π₂: Float64 1.0\n",
       "  μ₁: Float64 0.8\n",
       "  μ₂: Float64 1.0\n",
       "  σ₁: Float64 1.0\n",
       "  σ₂: Float64 3.572779\n",
       "  ρ: Float64 0.5\n",
       "  Σ: Array{Float64}((2, 2)) [1.0 1.7863895; 1.7863895 12.764749782841001]\n"
      ]
     },
     "metadata": {},
     "output_type": "display_data"
    }
   ],
   "source": [
    "initialize(get_params_percent(0.6))"
   ]
  },
  {
   "cell_type": "markdown",
   "metadata": {},
   "source": [
    "### d) Consistent estimator."
   ]
  },
  {
   "cell_type": "markdown",
   "metadata": {},
   "source": [
    "### e) Using c) as true population parameters, write a program to compute estimator in d) for only $\\mu_1$ and $\\rho$ parameters."
   ]
  },
  {
   "cell_type": "markdown",
   "metadata": {},
   "source": []
  }
 ],
 "metadata": {
  "kernelspec": {
   "display_name": "Julia 1.6.3",
   "language": "julia",
   "name": "julia-1.6"
  },
  "language_info": {
   "file_extension": ".jl",
   "mimetype": "application/julia",
   "name": "julia",
   "version": "1.6.3"
  },
  "orig_nbformat": 4
 },
 "nbformat": 4,
 "nbformat_minor": 2
}
